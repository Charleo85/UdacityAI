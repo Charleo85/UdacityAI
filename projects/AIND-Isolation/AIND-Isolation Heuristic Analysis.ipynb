{
 "cells": [
  {
   "cell_type": "markdown",
   "metadata": {},
   "source": [
    "# Results Comparision"
   ]
  },
  {
   "cell_type": "code",
   "execution_count": 2,
   "metadata": {
    "collapsed": true
   },
   "outputs": [],
   "source": [
    "import tournament as tn"
   ]
  },
  {
   "cell_type": "code",
   "execution_count": 3,
   "metadata": {
    "collapsed": false
   },
   "outputs": [
    {
     "name": "stdout",
     "output_type": "stream",
     "text": [
      "\n",
      "*************************\n",
      "   Evaluating: Student   \n",
      "*************************\n",
      "\n",
      "Playing Matches:\n",
      "----------\n",
      "  Match 1:   Student   vs   Random    \tResult: 20 to 0\n",
      "  Match 2:   Student   vs   MM_Null   \tResult: 20 to 0\n",
      "  Match 3:   Student   vs   MM_Open   \tResult: 20 to 0\n",
      "  Match 4:   Student   vs MM_Improved \tResult: 20 to 0\n",
      "  Match 5:   Student   vs   AB_Null   \tResult: 20 to 0\n",
      "  Match 6:   Student   vs   AB_Open   \tResult: 19 to 1\n",
      "  Match 7:   Student   vs AB_Improved \tResult: 20 to 0\n",
      "\n",
      "\n",
      "Results:\n",
      "----------\n",
      "Student             99.29%\n"
     ]
    }
   ],
   "source": [
    "def custom_score(game, player):\n",
    "    if game.is_loser(player):\n",
    "        return float(\"-inf\")\n",
    "    if game.is_winner(player):\n",
    "        return float(\"inf\")\n",
    "    my_moves = game.get_legal_moves(player)\n",
    "    oppo_moves = game.get_legal_moves(game.get_opponent(player))\n",
    "    return float(len(my_moves)-len(oppo_moves))\n",
    "tn.brief(custom_score)"
   ]
  },
  {
   "cell_type": "markdown",
   "metadata": {},
   "source": [
    "The evaluation function used above: $$f=m-o$$, where $m$ is the number of legal move of the player, $s$ is the number of legal move of the oppoenent."
   ]
  },
  {
   "cell_type": "code",
   "execution_count": 4,
   "metadata": {
    "collapsed": false
   },
   "outputs": [
    {
     "name": "stdout",
     "output_type": "stream",
     "text": [
      "\n",
      "*************************\n",
      "   Evaluating: Student   \n",
      "*************************\n",
      "\n",
      "Playing Matches:\n",
      "----------\n",
      "  Match 1:   Student   vs   Random    \tResult: 20 to 0\n",
      "  Match 2:   Student   vs   MM_Null   \tResult: 20 to 0\n",
      "  Match 3:   Student   vs   MM_Open   \tResult: 20 to 0\n",
      "  Match 4:   Student   vs MM_Improved \tResult: 20 to 0\n",
      "  Match 5:   Student   vs   AB_Null   \tResult: 20 to 0\n",
      "  Match 6:   Student   vs   AB_Open   \tResult: 20 to 0\n",
      "  Match 7:   Student   vs AB_Improved \tResult: 20 to 0\n",
      "\n",
      "\n",
      "Results:\n",
      "----------\n",
      "Student            100.00%\n"
     ]
    }
   ],
   "source": [
    "def custom_score2(game, player):\n",
    "    if game.is_loser(player):\n",
    "        return float(\"-inf\")\n",
    "    if game.is_winner(player):\n",
    "        return float(\"inf\")\n",
    "    my_moves = game.get_legal_moves(player)\n",
    "    oppo_moves = game.get_legal_moves(game.get_opponent(player))\n",
    "    return float(len(my_moves)**2-len(oppo_moves)**2)\n",
    "tn.brief(custom_score2)"
   ]
  },
  {
   "cell_type": "markdown",
   "metadata": {},
   "source": [
    "The Evaluation function used above: $$f=m^2-o^2$$, where $m$ is the number of legal move of the player, $s$ is the number of legal move of the oppoenent."
   ]
  },
  {
   "cell_type": "code",
   "execution_count": 5,
   "metadata": {
    "collapsed": false
   },
   "outputs": [
    {
     "name": "stdout",
     "output_type": "stream",
     "text": [
      "\n",
      "*************************\n",
      "   Evaluating: Student   \n",
      "*************************\n",
      "\n",
      "Playing Matches:\n",
      "----------\n",
      "  Match 1:   Student   vs   Random    \tResult: 20 to 0\n",
      "  Match 2:   Student   vs   MM_Null   \tResult: 20 to 0\n",
      "  Match 3:   Student   vs   MM_Open   \tResult: 20 to 0\n",
      "  Match 4:   Student   vs MM_Improved \tResult: 19 to 1\n",
      "  Match 5:   Student   vs   AB_Null   \tResult: 19 to 1\n",
      "  Match 6:   Student   vs   AB_Open   \tResult: 20 to 0\n",
      "  Match 7:   Student   vs AB_Improved \tResult: 20 to 0\n",
      "\n",
      "\n",
      "Results:\n",
      "----------\n",
      "Student             98.57%\n"
     ]
    }
   ],
   "source": [
    "def custom_score3(game, player):\n",
    "    if game.is_loser(player):\n",
    "        return float(\"-inf\")\n",
    "    if game.is_winner(player):\n",
    "        return float(\"inf\")\n",
    "    my_moves = game.get_legal_moves(player)\n",
    "    oppo_moves = game.get_legal_moves(game.get_opponent(player))\n",
    "    return float(len(my_moves)-2*len(oppo_moves))\n",
    "tn.brief(custom_score3)"
   ]
  },
  {
   "cell_type": "markdown",
   "metadata": {},
   "source": [
    "The evaluation function used above: $$f=m-2o$$, where $m$ is the number of legal move of the player, $s$ is the number of legal move of the oppoenent. \n",
    "    \n",
    "# Summary\n",
    "\n",
    "- The first evaluation function is a linear function that rewards player's legal moves and equally penalize the oppoents' legal move.\n",
    "\n",
    "- The second evaluation function is a quadratic function that rewards player's legal moves and penalize the oppoents' legal move.\n",
    "\n",
    "- The third evaluation function is a linear function that rewards player's legal moves and aggressively penalize the oppoents' legal move.\n",
    "\n",
    "Based on the running result, the second evaluation function $f=m^2-o^2$ seems to be the best. Since the result are actually very close, more iternations of matches should be carried out to draw any conclusion.\n"
   ]
  }
 ],
 "metadata": {
  "kernelspec": {
   "display_name": "Python [default]",
   "language": "python",
   "name": "python3"
  },
  "language_info": {
   "codemirror_mode": {
    "name": "ipython",
    "version": 3
   },
   "file_extension": ".py",
   "mimetype": "text/x-python",
   "name": "python",
   "nbconvert_exporter": "python",
   "pygments_lexer": "ipython3",
   "version": "3.5.2"
  }
 },
 "nbformat": 4,
 "nbformat_minor": 2
}
